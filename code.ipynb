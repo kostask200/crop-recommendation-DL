{
 "cells": [
  {
   "cell_type": "markdown",
   "id": "1aa94c36",
   "metadata": {},
   "source": [
    "# Import Modules"
   ]
  },
  {
   "cell_type": "code",
   "execution_count": null,
   "id": "01f099d6",
   "metadata": {},
   "outputs": [],
   "source": [
    "# Import modules\n",
    "import numpy as np\n",
    "import torch\n",
    "import torch.nn as nn\n",
    "import torch.optim as optim\n",
    "import pandas as pd\n",
    "import matplotlib.pyplot as plt\n",
    "import seaborn as sns\n",
    "import plotly.graph_objects as go\n",
    "import plotly.express as px\n",
    "from plotly.subplots import make_subplots\n",
    "from skorch import NeuralNetClassifier\n",
    "from sklearn.model_selection import GridSearchCV, train_test_split\n",
    "from torch.nn import init\n",
    "from sklearn.preprocessing import StandardScaler\n",
    "from sklearn.metrics import precision_score, recall_score, f1_score, accuracy_score\n",
    "from sklearn import metrics\n",
    "from sklearn.model_selection import train_test_split, StratifiedShuffleSplit\n",
    "from sklearn.preprocessing import StandardScaler\n",
    "from sklearn.metrics import classification_report"
   ]
  },
  {
   "cell_type": "markdown",
   "id": "e0dac26a",
   "metadata": {},
   "source": [
    "# Preprocessing & Statistical Analysis"
   ]
  },
  {
   "cell_type": "code",
   "execution_count": null,
   "id": "c39a0111",
   "metadata": {},
   "outputs": [],
   "source": [
    "# Load the dataset from CSV file\n",
    "data = pd.read_csv('Crop_recommendation.csv')"
   ]
  },
  {
   "cell_type": "code",
   "execution_count": null,
   "id": "72dcbfc9",
   "metadata": {},
   "outputs": [],
   "source": [
    "# Features and their explanations\n",
    "features = ['N - Nitrogen content', 'P - Phosphorous content', 'K - Potassium content', 'Temperature', 'Humidity', 'pH', 'Rainfall']\n",
    "explanations = [\n",
    "    'Ratio of Nitrogen content in soil',\n",
    "    'Ratio of Phosphorous content in soil',\n",
    "    'Ratio of Potassium content in soil',\n",
    "    'Temperature in degree Celsius',\n",
    "    'Relative humidity in %',\n",
    "    'pH value of the soil',\n",
    "    'Rainfall in mm'\n",
    "]\n",
    "\n",
    "# Create a table trace\n",
    "table_trace = go.Table(\n",
    "    header=dict(values=['Feature', 'Explanation'],\n",
    "                fill=dict(color='#6495ED'),\n",
    "                font=dict(color='white', size=12),\n",
    "                align=['center', 'center']),\n",
    "    cells=dict(values=[features, explanations],\n",
    "               fill=dict(color='#F0F8FF'),\n",
    "               font=dict(color='black', size=12),\n",
    "               align=['left', 'left']))  # Align text to the left\n",
    "\n",
    "# Create layout\n",
    "layout = go.Layout(\n",
    "    title='Feature Explanations',\n",
    "    margin=dict(l=20, r=20, t=30, b=10),\n",
    "    height=250,\n",
    "    width=700,\n",
    "    title_x=0.5,\n",
    "    title_y=0.95,\n",
    ")\n",
    "\n",
    "# Create figure\n",
    "fig = go.Figure(data=[table_trace], layout=layout)\n",
    "\n",
    "# Show the figure\n",
    "fig.show()"
   ]
  },
  {
   "cell_type": "code",
   "execution_count": null,
   "id": "4f5e5989",
   "metadata": {},
   "outputs": [],
   "source": [
    "# Check for missing values\n",
    "print(data.isnull().sum())"
   ]
  },
  {
   "cell_type": "code",
   "execution_count": null,
   "id": "f210c027",
   "metadata": {},
   "outputs": [],
   "source": [
    "# Select columns 1 to 7\n",
    "selected_columns = data.iloc[:, 0:7]\n",
    "\n",
    "# Convert selected columns to numeric data types\n",
    "selected_columns = selected_columns.apply(pd.to_numeric, errors='coerce')\n",
    "\n",
    "# Calculate quartiles and the IQR\n",
    "Q1 = selected_columns.quantile(0.25)\n",
    "Q3 = selected_columns.quantile(0.75)\n",
    "IQR = Q3 - Q1\n",
    "\n",
    "# Define lower and upper bounds for outliers\n",
    "lower_bound = Q1 - 1.5 * IQR\n",
    "upper_bound = Q3 + 1.5 * IQR\n",
    "\n",
    "# Identify outliers\n",
    "outliers = (selected_columns < lower_bound) | (selected_columns > upper_bound)\n",
    "\n",
    "# Check if there are any outliers\n",
    "if outliers.any().any():\n",
    "    print(\"There are outliers in the dataset.\")\n",
    "else:\n",
    "    print(\"There are no outliers in the dataset.\")"
   ]
  },
  {
   "cell_type": "code",
   "execution_count": null,
   "id": "bef5785d",
   "metadata": {},
   "outputs": [],
   "source": [
    "# Calculate summary statistics and round to two decimal places\n",
    "summary_stats = data.describe().round(2).reset_index()\n",
    "\n",
    "# Create the Plotly figure\n",
    "fig = go.Figure(data=[go.Table(\n",
    "    header=dict(values=summary_stats.columns,\n",
    "                fill_color='#6495ED',  # Set header fill color\n",
    "                font=dict(color='white', size=12),  # Set header font\n",
    "                align='center'),  # Set header alignment\n",
    "    cells=dict(values=[summary_stats[col] for col in summary_stats.columns],\n",
    "               fill_color='#F0F8FF',  # Set cell fill color\n",
    "               font=dict(color='black', size=12),  # Set cell font\n",
    "               align='center'),  # Set cell alignment\n",
    ")])\n",
    "\n",
    "# Update table layout\n",
    "fig.update_layout(\n",
    "    title='Summary Statistics',\n",
    "    margin=dict(l=20, r=20, t=30, b=10),\n",
    "    height=250,\n",
    "    width=700,\n",
    "    title_x=0.5,\n",
    "    title_y=0.95,\n",
    ")\n",
    "\n",
    "# Show table\n",
    "fig.show()"
   ]
  },
  {
   "cell_type": "code",
   "execution_count": null,
   "id": "cb3396c6",
   "metadata": {},
   "outputs": [],
   "source": [
    "# Histograms\n",
    "plt.figure(figsize=(12, 7))\n",
    "plt.subplot(2, 4, 1)\n",
    "sns.histplot(data['N'], bins=20, kde=True, color='skyblue')\n",
    "plt.title('Distribution of Nitrogen')\n",
    "\n",
    "plt.subplot(2, 4, 2)\n",
    "sns.histplot(data['P'], bins=20, kde=True, color='salmon')\n",
    "plt.title('Distribution of Phosphorous')\n",
    "\n",
    "plt.subplot(2, 4, 3)\n",
    "sns.histplot(data['K'], bins=20, kde=True, color='green')\n",
    "plt.title('Distribution of Potassium')\n",
    "\n",
    "plt.subplot(2, 4, 4)\n",
    "sns.histplot(data['temperature'], bins=20, kde=True, color='orange')\n",
    "plt.title('Distribution of Temperature')\n",
    "\n",
    "plt.subplot(2, 4, 5)\n",
    "sns.histplot(data['humidity'], bins=20, kde=True, color='purple')\n",
    "plt.title('Distribution of Humidity')\n",
    "\n",
    "plt.subplot(2, 4, 6)\n",
    "sns.histplot(data['ph'], bins=20, kde=True, color='brown')\n",
    "plt.title('Distribution of pH')\n",
    "\n",
    "plt.subplot(2, 4, 7)\n",
    "sns.histplot(data['rainfall'], bins=20, kde=True, color='blue')\n",
    "plt.title('Distribution of Rainfall')\n",
    "\n",
    "plt.tight_layout()\n",
    "plt.show()"
   ]
  },
  {
   "cell_type": "code",
   "execution_count": null,
   "id": "1746a243",
   "metadata": {},
   "outputs": [],
   "source": [
    "# Box plots\n",
    "plt.figure(figsize=(12, 7))\n",
    "plt.subplot(2, 4, 1)\n",
    "sns.boxplot(y=data['N'], color='skyblue')\n",
    "plt.title('Box plot of Nitrogen')\n",
    "\n",
    "plt.subplot(2, 4, 2)\n",
    "sns.boxplot(y=data['P'], color='salmon')\n",
    "plt.title('Box plot of Phosphorous')\n",
    "\n",
    "plt.subplot(2, 4, 3)\n",
    "sns.boxplot(y=data['K'], color='green')\n",
    "plt.title('Box plot of Potassium')\n",
    "\n",
    "plt.subplot(2, 4, 4)\n",
    "sns.boxplot(y=data['temperature'], color='orange')\n",
    "plt.title('Box plot of Temperature')\n",
    "\n",
    "plt.subplot(2, 4, 5)\n",
    "sns.boxplot(y=data['humidity'], color='purple')\n",
    "plt.title('Box plot of Humidity')\n",
    "\n",
    "plt.subplot(2, 4, 6)\n",
    "sns.boxplot(y=data['ph'], color='brown')\n",
    "plt.title('Box plot of pH')\n",
    "\n",
    "plt.subplot(2, 4, 7)\n",
    "sns.boxplot(y=data['rainfall'], color='blue')\n",
    "plt.title('Box plot of Rainfall')\n",
    "\n",
    "plt.tight_layout()\n",
    "plt.show()"
   ]
  },
  {
   "cell_type": "code",
   "execution_count": null,
   "id": "931a76fe",
   "metadata": {},
   "outputs": [],
   "source": [
    "# Create a DataFrame from the data\n",
    "df = pd.DataFrame(selected_columns)\n",
    "\n",
    "# Calculate the correlation matrix\n",
    "corr_matrix = df.corr()\n",
    "\n",
    "# Plot heatmap\n",
    "plt.figure(figsize=(10, 8))\n",
    "sns.heatmap(corr_matrix, annot=True, cmap='coolwarm', fmt=\".2f\", linewidths=.5)\n",
    "plt.title('Correlation Heatmap between Features')\n",
    "plt.show()"
   ]
  },
  {
   "cell_type": "code",
   "execution_count": null,
   "id": "e6b2b54e",
   "metadata": {},
   "outputs": [],
   "source": [
    "# This function generates a summary plot of crop data, displaying the top and bottom crops based on a specified feature,\n",
    "# with the corresponding values, using horizontal bar charts in a subplot layout.\n",
    "def plot_crop_summary(data, feature, color_top, color_last, title, feature_full_name):\n",
    "    # Calculate crop summary\n",
    "    crop_summary = pd.pivot_table(data, index='label', aggfunc='mean')\n",
    "    crop_summary_feature = crop_summary.sort_values(by=feature, ascending=False)\n",
    "    \n",
    "    # Round the feature values to two decimal places for consistency\n",
    "    crop_summary_feature[feature] = crop_summary_feature[feature].round(2)\n",
    "    \n",
    "    # Create subplot\n",
    "    fig = make_subplots(rows=1, cols=2)\n",
    "\n",
    "    top = {\n",
    "        'y': crop_summary_feature[feature][0:10].sort_values().index,\n",
    "        'x': crop_summary_feature[feature][0:10].sort_values()\n",
    "    }\n",
    "\n",
    "    last = {\n",
    "        'y': crop_summary_feature[feature][-10:].index,\n",
    "        'x': crop_summary_feature[feature][-10:]\n",
    "    }\n",
    "\n",
    "    # Add bar charts for top and bottom crops\n",
    "    fig.add_trace(\n",
    "        go.Bar(y=top['y'], x=top['x'], name=\"Most \" + feature_full_name + \" required\",\n",
    "               marker_color=color_top, orientation='h', text=top['x'], hoverinfo='x+text',\n",
    "               hovertemplate='%{x:.2f}'),\n",
    "        row=1, col=1\n",
    "    )\n",
    "\n",
    "    fig.add_trace(\n",
    "        go.Bar(y=last['y'], x=last['x'], name=\"Least \" + feature_full_name + \" required\",\n",
    "               marker_color=color_last, orientation='h', text=last['x'], hoverinfo='x+text',\n",
    "               hovertemplate='%{x:.2f}'),\n",
    "        row=1, col=2\n",
    "    )\n",
    "\n",
    "    # Update trace and layout\n",
    "    fig.update_traces(texttemplate='%{text}', textposition='inside')\n",
    "    fig.update_layout(\n",
    "        title_text=title, title_x=0.5, plot_bgcolor='white', font_size=12, font_color='black', height=500\n",
    "    )\n",
    "\n",
    "    fig.update_xaxes(showgrid=False)\n",
    "    fig.update_yaxes(showgrid=False)\n",
    "    \n",
    "    # Show plot\n",
    "    fig.show()"
   ]
  },
  {
   "cell_type": "code",
   "execution_count": null,
   "id": "4757edaf",
   "metadata": {},
   "outputs": [],
   "source": [
    "# Plots\n",
    "plot_crop_summary(data, 'N', 'rgba(255,0,0,0.6)', 'rgba(0,0,255,0.5)', \"Summary Plot of Nitrogen\", \"nitrogen\")\n",
    "plot_crop_summary(data, 'P', 'rgba(255,0,0,0.6)', 'rgba(0,0,255,0.5)', \"Summary Plot of Phosphorous\", \"phosphorous\")\n",
    "plot_crop_summary(data, 'K', 'rgba(255,0,0,0.6)', 'rgba(0,0,255,0.5)', \"Summary Plot of Potassium\", \"potassium\")\n",
    "plot_crop_summary(data, 'temperature', 'rgba(255,0,0,0.6)', 'rgba(0,0,255,0.5)', \"Summary Plot of Temperature\", \"temperature\")\n",
    "plot_crop_summary(data, 'humidity', 'rgba(255,0,0,0.6)', 'rgba(0,0,255,0.5)', \"Summary Plot of Humidity\", \"humidity\")\n",
    "plot_crop_summary(data, 'ph', 'rgba(255,0,0,0.6)', 'rgba(0,0,255,0.5)', \"Summary Plot of pH\", \"pH\")\n",
    "plot_crop_summary(data, 'rainfall', 'rgba(255,0,0,0.6)', 'rgba(0,0,255,0.5)', \"Summary Plot of Rainfall\", \"rainfall\")"
   ]
  },
  {
   "cell_type": "markdown",
   "id": "d38f6856",
   "metadata": {},
   "source": [
    "# Splitting Data & Normalizing"
   ]
  },
  {
   "cell_type": "code",
   "execution_count": null,
   "id": "932606b2",
   "metadata": {},
   "outputs": [],
   "source": [
    "# Assign features and labels\n",
    "features = data[['N','P','K','temperature','humidity','ph','rainfall']].values\n",
    "labels = data['label'].values"
   ]
  },
  {
   "cell_type": "code",
   "execution_count": null,
   "id": "cbb4e842",
   "metadata": {},
   "outputs": [],
   "source": [
    "# Normalize input features\n",
    "scaler = StandardScaler()\n",
    "features_normalized = scaler.fit_transform(features)"
   ]
  },
  {
   "cell_type": "code",
   "execution_count": null,
   "id": "43852d73",
   "metadata": {},
   "outputs": [],
   "source": [
    "# Convert label strings to numeric representations\n",
    "label_to_index = {label: idx for idx, label in enumerate(np.unique(labels))}\n",
    "numeric_labels = np.array([label_to_index[label] for label in labels])"
   ]
  },
  {
   "cell_type": "code",
   "execution_count": null,
   "id": "a7dd473f",
   "metadata": {},
   "outputs": [],
   "source": [
    "# Print label mappings\n",
    "print(\"Label to Index Mapping:\")\n",
    "for label, index in label_to_index.items():\n",
    "    print(f\"{label}: {index}\")"
   ]
  },
  {
   "cell_type": "code",
   "execution_count": null,
   "id": "c97a4a6d",
   "metadata": {},
   "outputs": [],
   "source": [
    "# Convert labels to torch.long data type\n",
    "labels = torch.tensor(numeric_labels, dtype=torch.long)"
   ]
  },
  {
   "cell_type": "code",
   "execution_count": null,
   "id": "80f5f2d8",
   "metadata": {},
   "outputs": [],
   "source": [
    "# Initialize StratifiedShuffleSplit\n",
    "sss = StratifiedShuffleSplit(n_splits=1, test_size=0.3, random_state=42)\n",
    "\n",
    "# Split the data into training and test sets while preserving label distribution\n",
    "for train_index, test_index in sss.split(features_normalized, labels):\n",
    "    X_train, X_test = features_normalized[train_index], features_normalized[test_index]\n",
    "    y_train, y_test = labels[train_index], labels[test_index]"
   ]
  },
  {
   "cell_type": "code",
   "execution_count": null,
   "id": "d6fab482",
   "metadata": {},
   "outputs": [],
   "source": [
    "# Convert features to float32 and labels to int64\n",
    "X_train = torch.tensor(X_train, dtype=torch.float32)\n",
    "y_train = y_train.clone().detach()\n",
    "X_test = torch.tensor(X_test, dtype=torch.float32)\n",
    "y_test = y_test.clone().detach()"
   ]
  },
  {
   "cell_type": "markdown",
   "id": "48ffcac2",
   "metadata": {},
   "source": [
    "# Neural Network Architectures"
   ]
  },
  {
   "cell_type": "code",
   "execution_count": null,
   "id": "0d50bad6",
   "metadata": {},
   "outputs": [],
   "source": [
    "# Define neural network architecture with 2 hidden layers\n",
    "class NeuralNetwork2Hidden(nn.Module):\n",
    "    def __init__(self, activation, n_neurons, dropout_rate, weight_init):\n",
    "        super().__init__()\n",
    "        self.fc1 = nn.Linear(7, n_neurons)\n",
    "        self.bn1 = nn.BatchNorm1d(n_neurons)\n",
    "        self.fc2 = nn.Linear(n_neurons, n_neurons)\n",
    "        self.bn2 = nn.BatchNorm1d(n_neurons)\n",
    "        self.fc3 = nn.Linear(n_neurons, 22)\n",
    "        self.activation = activation()\n",
    "        self.dropout = nn.Dropout(dropout_rate)\n",
    "        self.weight_init = weight_init\n",
    "        self.initialize_weights()\n",
    "\n",
    "    def initialize_weights(self):\n",
    "        self.weight_init(self.fc1.weight)\n",
    "        self.weight_init(self.fc2.weight)\n",
    "        self.weight_init(self.fc3.weight)\n",
    "\n",
    "    def forward(self, x):\n",
    "        x = self.activation(self.bn1(self.fc1(x)))\n",
    "        x = self.dropout(x)\n",
    "        x = self.activation(self.bn2(self.fc2(x)))\n",
    "        x = self.dropout(x)\n",
    "        x = self.fc3(x)\n",
    "        return x\n",
    "\n",
    "# Define neural network architecture with 5 hidden layers\n",
    "class NeuralNetwork5Hidden(nn.Module):\n",
    "    def __init__(self, activation, n_neurons, dropout_rate, weight_init):\n",
    "        super().__init__()\n",
    "        self.fc1 = nn.Linear(7, n_neurons)\n",
    "        self.bn1 = nn.BatchNorm1d(n_neurons)\n",
    "        self.fc2 = nn.Linear(n_neurons, n_neurons)\n",
    "        self.bn2 = nn.BatchNorm1d(n_neurons)\n",
    "        self.fc3 = nn.Linear(n_neurons, n_neurons)\n",
    "        self.bn3 = nn.BatchNorm1d(n_neurons)\n",
    "        self.fc4 = nn.Linear(n_neurons, n_neurons)\n",
    "        self.bn4 = nn.BatchNorm1d(n_neurons)\n",
    "        self.fc5 = nn.Linear(n_neurons, n_neurons)\n",
    "        self.bn5 = nn.BatchNorm1d(n_neurons)\n",
    "        self.fc6 = nn.Linear(n_neurons, 22)\n",
    "        self.activation = activation()\n",
    "        self.dropout = nn.Dropout(dropout_rate)\n",
    "        self.weight_init = weight_init\n",
    "        self.initialize_weights()\n",
    "\n",
    "    def initialize_weights(self):\n",
    "        self.weight_init(self.fc1.weight)\n",
    "        self.weight_init(self.fc2.weight)\n",
    "        self.weight_init(self.fc3.weight)\n",
    "        self.weight_init(self.fc4.weight)\n",
    "        self.weight_init(self.fc5.weight)\n",
    "        self.weight_init(self.fc6.weight)\n",
    "\n",
    "    def forward(self, x):\n",
    "        x = self.activation(self.bn1(self.fc1(x)))\n",
    "        x = self.dropout(x)\n",
    "        x = self.activation(self.bn2(self.fc2(x)))\n",
    "        x = self.dropout(x)\n",
    "        x = self.activation(self.bn3(self.fc3(x)))\n",
    "        x = self.dropout(x)\n",
    "        x = self.activation(self.bn4(self.fc4(x)))\n",
    "        x = self.dropout(x)\n",
    "        x = self.activation(self.bn5(self.fc5(x)))\n",
    "        x = self.dropout(x)\n",
    "        x = self.fc6(x)\n",
    "        return x"
   ]
  },
  {
   "cell_type": "markdown",
   "id": "d00c2455",
   "metadata": {},
   "source": [
    "# Hyperparameter Tuning"
   ]
  },
  {
   "cell_type": "code",
   "execution_count": null,
   "id": "abb36506",
   "metadata": {},
   "outputs": [],
   "source": [
    "# Create models with Skorch\n",
    "model_2 = NeuralNetClassifier(NeuralNetwork2Hidden)\n",
    "model_5 = NeuralNetClassifier(NeuralNetwork5Hidden)"
   ]
  },
  {
   "cell_type": "code",
   "execution_count": null,
   "id": "07ccc007",
   "metadata": {},
   "outputs": [],
   "source": [
    "# Define the parameter grid\n",
    "param_grid = {\n",
    "    'batch_size': [10, 50, 100],\n",
    "    'max_epochs': [10, 50, 100],\n",
    "    'optimizer': [optim.Adam, optim.Adadelta, optim.Adagrad, optim.Adamax],\n",
    "    'optimizer__lr': [0.0001, 0.001, 0.01],\n",
    "    'module__activation': [nn.ReLU, nn.LeakyReLU, nn.RReLU],\n",
    "    'module__n_neurons': [10, 40, 80],\n",
    "    'criterion': [nn.CrossEntropyLoss],\n",
    "    'module__dropout_rate': [0.0, 0.2, 0.5],\n",
    "    'module__weight_init': [init.xavier_uniform_, init.xavier_normal_]\n",
    "}"
   ]
  },
  {
   "cell_type": "code",
   "execution_count": null,
   "id": "d5b16ab4",
   "metadata": {},
   "outputs": [],
   "source": [
    "# Perform grid search with cross-validation to the first model\n",
    "grid_2 = GridSearchCV(estimator=model_2, param_grid=param_grid, scoring='accuracy', n_jobs=-1, cv=5)\n",
    "grid_result_2 = grid_2.fit(X_train, y_train)"
   ]
  },
  {
   "cell_type": "code",
   "execution_count": null,
   "id": "06fabc85",
   "metadata": {},
   "outputs": [],
   "source": [
    "# Perform grid search with cross-validation to the second model\n",
    "grid_5 = GridSearchCV(estimator=model_5, param_grid=param_grid, scoring='accuracy', n_jobs=-1, cv=5)\n",
    "grid_result_5 = grid_5.fit(X_train, y_train)"
   ]
  },
  {
   "cell_type": "code",
   "execution_count": null,
   "id": "0b9e25c5",
   "metadata": {},
   "outputs": [],
   "source": [
    "# Get the best parameters and the best score for the first model\n",
    "print(\"Best parameters found - 2 hidden layers: \", grid_result_2.best_params_)\n",
    "print(\"Best score found - 2 hidden layers: \", grid_result_2.best_score_)"
   ]
  },
  {
   "cell_type": "code",
   "execution_count": null,
   "id": "b1690ac8",
   "metadata": {},
   "outputs": [],
   "source": [
    "# Get the best parameters and the best score for the second model\n",
    "print(\"Best parameters found - 5 hidden layers: \", grid_result_5.best_params_)\n",
    "print(\"Best score found - 5 hidden layers: \", grid_result_5.best_score_)"
   ]
  },
  {
   "cell_type": "code",
   "execution_count": null,
   "id": "b2fe6e03",
   "metadata": {},
   "outputs": [],
   "source": [
    "# Define data frame for results\n",
    "cv_results_df_2 = pd.DataFrame(grid_result_2.cv_results_)\n",
    "\n",
    "# Define filename with timestamp\n",
    "filename_2 = f\"cv_results_2_hidden_layers.xlsx\"\n",
    "\n",
    "# Save DataFrame to Excel\n",
    "cv_results_df_2.to_excel(filename_2, index=False)\n",
    "\n",
    "# Save the best model\n",
    "best_model_2 = grid_result_2.best_estimator_"
   ]
  },
  {
   "cell_type": "code",
   "execution_count": null,
   "id": "45b801f3",
   "metadata": {},
   "outputs": [],
   "source": [
    "# Define data frame for results\n",
    "cv_results_df_5 = pd.DataFrame(grid_result_5.cv_results_)\n",
    "\n",
    "# Define filename with timestamp\n",
    "filename_5 = f\"cv_results_5_hidden_layers.xlsx\"\n",
    "\n",
    "# Save DataFrame to Excel\n",
    "cv_results_df_5.to_excel(filename_5, index=False)\n",
    "\n",
    "# Save the best model\n",
    "best_model_5 = grid_result_5.best_estimator_"
   ]
  },
  {
   "cell_type": "markdown",
   "id": "a4674fbc",
   "metadata": {},
   "source": [
    "# Experimentation Plots - 2 Hidden Layer Architecture"
   ]
  },
  {
   "cell_type": "code",
   "execution_count": null,
   "id": "04028c3b",
   "metadata": {},
   "outputs": [],
   "source": [
    "# Load the cv_results from the Excel file\n",
    "cv_results = pd.read_excel('cv_results_2_hidden_layers.xlsx')\n",
    "\n",
    "# Set consistent style and color palette\n",
    "sns.set_style(\"whitegrid\")\n",
    "sns.set_palette(\"husl\")"
   ]
  },
  {
   "cell_type": "code",
   "execution_count": null,
   "id": "a50e6b07",
   "metadata": {},
   "outputs": [],
   "source": [
    "# Plot validation curve for learning rate for each optimizer\n",
    "fig, axes = plt.subplots(figsize=(10, 6))\n",
    "for optimizer in cv_results['param_optimizer'].unique():\n",
    "    optimizer_results = cv_results[cv_results['param_optimizer'] == optimizer]\n",
    "    sns.lineplot(x='param_optimizer__lr', y='mean_test_score', data=optimizer_results, label=optimizer)"
   ]
  },
  {
   "cell_type": "code",
   "execution_count": null,
   "id": "8068be76",
   "metadata": {},
   "outputs": [],
   "source": [
    "# Plot validation curve for batch size\n",
    "fig, axes = plt.subplots(figsize=(10, 6))\n",
    "sns.lineplot(x='param_batch_size', y='mean_test_score', data=cv_results, ax=axes)\n",
    "axes.set_title('Validation Curve for Batch Size')\n",
    "axes.set_xlabel('Batch Size')\n",
    "axes.set_ylabel('Mean Test Score')\n",
    "plt.show()"
   ]
  },
  {
   "cell_type": "code",
   "execution_count": null,
   "id": "bf5b2d00",
   "metadata": {},
   "outputs": [],
   "source": [
    "# Heatmap for hyperparameters\n",
    "pivot_table = cv_results.pivot_table(index='param_optimizer', columns='param_module__activation', values='mean_test_score')\n",
    "plt.figure(figsize=(10, 6))\n",
    "sns.heatmap(pivot_table, annot=True, cmap='YlGnBu')\n",
    "plt.title('Mean Test Scores for Hyperparameters')\n",
    "plt.xlabel('Activation Function')\n",
    "plt.ylabel('Optimizer')\n",
    "plt.show()"
   ]
  },
  {
   "cell_type": "code",
   "execution_count": null,
   "id": "3b531e2f",
   "metadata": {},
   "outputs": [],
   "source": [
    "# Bar plot of mean test score for optimizers\n",
    "fig, axes = plt.subplots(figsize=(10, 6))\n",
    "sns.barplot(x='param_optimizer', y='mean_test_score', data=cv_results, ax=axes)\n",
    "axes.set_title('Mean Test Score for Optimizers')\n",
    "axes.set_xlabel('Optimizer')\n",
    "axes.set_ylabel('Mean Test Score')\n",
    "plt.show()"
   ]
  },
  {
   "cell_type": "code",
   "execution_count": null,
   "id": "59fa12a8",
   "metadata": {},
   "outputs": [],
   "source": [
    "# Bar plot of mean test score for activation functions\n",
    "fig, axes = plt.subplots(figsize=(10, 6))\n",
    "sns.barplot(x='param_module__activation', y='mean_test_score', data=cv_results, ax=axes)\n",
    "axes.set_title('Mean Test Score for Activation Functions')\n",
    "axes.set_xlabel('Activation Function')\n",
    "axes.set_ylabel('Mean Test Score')\n",
    "plt.show()"
   ]
  },
  {
   "cell_type": "code",
   "execution_count": null,
   "id": "43b8bb93",
   "metadata": {},
   "outputs": [],
   "source": [
    "# Line plot of mean test score over epochs for each combination of hyperparameters\n",
    "g = sns.FacetGrid(cv_results, col='param_optimizer', hue='param_module__activation', col_wrap=3, height=4)\n",
    "g.map(sns.lineplot, 'param_max_epochs', 'mean_test_score')\n",
    "g.set_titles(col_template=\"{col_name}\")\n",
    "g.set_xlabels('Epochs')\n",
    "g.set_ylabels('Mean Test Score')\n",
    "g.add_legend(title='Activation Function')\n",
    "plt.show()"
   ]
  },
  {
   "cell_type": "code",
   "execution_count": null,
   "id": "61ea5794",
   "metadata": {},
   "outputs": [],
   "source": [
    "# Distribution plot of fit time\n",
    "fig, axes = plt.subplots(figsize=(10, 6))\n",
    "sns.histplot(cv_results['mean_fit_time'], kde=True, ax=axes)\n",
    "axes.set_title('Distribution of Fit Time')\n",
    "axes.set_xlabel('Mean Fit Time (s)')\n",
    "axes.set_ylabel('Density')\n",
    "plt.show()"
   ]
  },
  {
   "cell_type": "markdown",
   "id": "29bb1ce2",
   "metadata": {},
   "source": [
    "# Experimentation Plots - 5 Hidden Layer Architecture"
   ]
  },
  {
   "cell_type": "code",
   "execution_count": null,
   "id": "a7e4dd06",
   "metadata": {},
   "outputs": [],
   "source": [
    "# Load the cv_results from the Excel file\n",
    "cv_results = pd.read_excel('cv_results_5_hidden_layers.xlsx')\n",
    "\n",
    "# Set consistent style and color palette\n",
    "sns.set_style(\"whitegrid\")\n",
    "sns.set_palette(\"husl\")"
   ]
  },
  {
   "cell_type": "code",
   "execution_count": null,
   "id": "13f98807",
   "metadata": {},
   "outputs": [],
   "source": [
    "# Plot validation curve for learning rate for each optimizer\n",
    "fig, axes = plt.subplots(figsize=(10, 6))\n",
    "for optimizer in cv_results['param_optimizer'].unique():\n",
    "    optimizer_results = cv_results[cv_results['param_optimizer'] == optimizer]\n",
    "    sns.lineplot(x='param_optimizer__lr', y='mean_test_score', data=optimizer_results, label=optimizer)"
   ]
  },
  {
   "cell_type": "code",
   "execution_count": null,
   "id": "b010ad05",
   "metadata": {},
   "outputs": [],
   "source": [
    "# Plot validation curve for batch size\n",
    "fig, axes = plt.subplots(figsize=(10, 6))\n",
    "sns.lineplot(x='param_batch_size', y='mean_test_score', data=cv_results, ax=axes)\n",
    "axes.set_title('Validation Curve for Batch Size')\n",
    "axes.set_xlabel('Batch Size')\n",
    "axes.set_ylabel('Mean Test Score')\n",
    "plt.show()"
   ]
  },
  {
   "cell_type": "code",
   "execution_count": null,
   "id": "63133394",
   "metadata": {},
   "outputs": [],
   "source": [
    "# Heatmap for hyperparameters\n",
    "pivot_table = cv_results.pivot_table(index='param_optimizer', columns='param_module__activation', values='mean_test_score')\n",
    "plt.figure(figsize=(10, 6))\n",
    "sns.heatmap(pivot_table, annot=True, cmap='YlGnBu')\n",
    "plt.title('Mean Test Scores for Hyperparameters')\n",
    "plt.xlabel('Activation Function')\n",
    "plt.ylabel('Optimizer')\n",
    "plt.show()"
   ]
  },
  {
   "cell_type": "code",
   "execution_count": null,
   "id": "508ad40e",
   "metadata": {},
   "outputs": [],
   "source": [
    "# Bar plot of mean test score for optimizers\n",
    "fig, axes = plt.subplots(figsize=(10, 6))\n",
    "sns.barplot(x='param_optimizer', y='mean_test_score', data=cv_results, ax=axes)\n",
    "axes.set_title('Mean Test Score for Optimizers')\n",
    "axes.set_xlabel('Optimizer')\n",
    "axes.set_ylabel('Mean Test Score')\n",
    "plt.show()"
   ]
  },
  {
   "cell_type": "code",
   "execution_count": null,
   "id": "ab3470a7",
   "metadata": {},
   "outputs": [],
   "source": [
    "# Bar plot of mean test score for activation functions\n",
    "fig, axes = plt.subplots(figsize=(10, 6))\n",
    "sns.barplot(x='param_module__activation', y='mean_test_score', data=cv_results, ax=axes)\n",
    "axes.set_title('Mean Test Score for Activation Functions')\n",
    "axes.set_xlabel('Activation Function')\n",
    "axes.set_ylabel('Mean Test Score')\n",
    "plt.show()"
   ]
  },
  {
   "cell_type": "code",
   "execution_count": null,
   "id": "e8192bdf",
   "metadata": {},
   "outputs": [],
   "source": [
    "# Line plot of mean test score over epochs for each combination of hyperparameters\n",
    "g = sns.FacetGrid(cv_results, col='param_optimizer', hue='param_module__activation', col_wrap=3, height=4)\n",
    "g.map(sns.lineplot, 'param_max_epochs', 'mean_test_score')\n",
    "g.set_titles(col_template=\"{col_name}\")\n",
    "g.set_xlabels('Epochs')\n",
    "g.set_ylabels('Mean Test Score')\n",
    "g.add_legend(title='Activation Function')\n",
    "plt.show()"
   ]
  },
  {
   "cell_type": "code",
   "execution_count": null,
   "id": "fd44858d",
   "metadata": {},
   "outputs": [],
   "source": [
    "# Distribution plot of fit time\n",
    "fig, axes = plt.subplots(figsize=(10, 6))\n",
    "sns.histplot(cv_results['mean_fit_time'], kde=True, ax=axes)\n",
    "axes.set_title('Distribution of Fit Time')\n",
    "axes.set_xlabel('Mean Fit Time (s)')\n",
    "axes.set_ylabel('Density')\n",
    "plt.show()"
   ]
  },
  {
   "cell_type": "markdown",
   "id": "6b19d863",
   "metadata": {},
   "source": [
    "# Metrics - Classification Report"
   ]
  },
  {
   "cell_type": "code",
   "execution_count": null,
   "id": "6d0cc573",
   "metadata": {},
   "outputs": [],
   "source": [
    "# Predict labels using the model with 2 hidden layers\n",
    "y_pred = best_model_2.predict(X_test)\n",
    "\n",
    "# Calculate accuracy\n",
    "accuracy = accuracy_score(y_test, y_pred)\n",
    "print(\"Accuracy:\", accuracy)\n",
    "\n",
    "# Generate classification report\n",
    "print(\"\\nClassification Report for 2 hidden layers:\")\n",
    "print(classification_report(y_test, y_pred))"
   ]
  },
  {
   "cell_type": "code",
   "execution_count": null,
   "id": "81dd60c9",
   "metadata": {},
   "outputs": [],
   "source": [
    "# Predict labels using the model with 5 hidden layers\n",
    "y_pred = best_model_5.predict(X_test)\n",
    "\n",
    "# Calculate accuracy\n",
    "accuracy = accuracy_score(y_test, y_pred)\n",
    "print(\"Accuracy:\", accuracy)\n",
    "\n",
    "# Generate classification report\n",
    "print(\"\\nClassification Report for 5 hidden layers:\")\n",
    "print(classification_report(y_test, y_pred))"
   ]
  }
 ],
 "metadata": {
  "kernelspec": {
   "display_name": "Python 3 (ipykernel)",
   "language": "python",
   "name": "python3"
  },
  "language_info": {
   "codemirror_mode": {
    "name": "ipython",
    "version": 3
   },
   "file_extension": ".py",
   "mimetype": "text/x-python",
   "name": "python",
   "nbconvert_exporter": "python",
   "pygments_lexer": "ipython3",
   "version": "3.11.5"
  }
 },
 "nbformat": 4,
 "nbformat_minor": 5
}
